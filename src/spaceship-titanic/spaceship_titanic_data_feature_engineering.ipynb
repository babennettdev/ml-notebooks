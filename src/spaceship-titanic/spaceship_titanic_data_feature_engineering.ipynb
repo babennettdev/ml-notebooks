{
 "cells": [
  {
   "cell_type": "markdown",
   "metadata": {},
   "source": [
    "# Spaceship Titanic\n",
    "\n",
    "## Feature Engineering\n",
    "\n",
    "## Table of Contents\n",
    "- [Spaceship Titanic](#spaceship-titanic)\n",
    "- [Feature Engineering](#feature-engineering)\n",
    "- [Table of Contents](#table-of-contents)\n",
    "- [Config](#config)\n",
    "- [Dependencies](#dependencies)"
   ]
  },
  {
   "cell_type": "markdown",
   "metadata": {},
   "source": [
    "### Config\n",
    "\n",
    "Set up directory variables."
   ]
  },
  {
   "cell_type": "code",
   "execution_count": null,
   "metadata": {},
   "outputs": [],
   "source": [
    "dataset = \"spaceship-titanic\"\n",
    "dataset_directory = f\"../../datasets/{dataset}\"\n",
    "training_dataset_directory = f\"{dataset_directory}/train.csv\"\n",
    "test_dataset_directory = f\"{dataset_directory}/test.csv\""
   ]
  },
  {
   "cell_type": "markdown",
   "metadata": {},
   "source": [
    "### Dependencies"
   ]
  },
  {
   "cell_type": "code",
   "execution_count": null,
   "metadata": {},
   "outputs": [],
   "source": [
    "%conda install pandas numpy matplotlib seaborn"
   ]
  },
  {
   "cell_type": "code",
   "execution_count": null,
   "metadata": {},
   "outputs": [],
   "source": [
    "import sys\n",
    "import pandas as pd\n",
    "import numpy as np\n",
    "import matplotlib.pyplot as plt\n",
    "import seaborn as sns"
   ]
  }
 ],
 "metadata": {
  "language_info": {
   "name": "python"
  },
  "orig_nbformat": 4
 },
 "nbformat": 4,
 "nbformat_minor": 2
}
