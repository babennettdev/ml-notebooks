{
 "cells": [
  {
   "cell_type": "markdown",
   "metadata": {},
   "source": [
    "# Spaceship Titanic\n",
    "\n",
    "## Training XGBoost Classifier\n",
    "\n",
    "## Table of Contents\n",
    "- [Spaceship Titanic](#spaceship-titanic)\n",
    "- [Training XGBoost Classifier](#training-xgboost-classifier)\n",
    "- [Table of Contents](#table-of-contents)\n",
    "- [Config](#config)\n",
    "- [Dependencies](#dependencies)\n",
    "- [Data Extraction](#data-extraction)\n",
    "- [Hyper Parameter Tuning](#hyper-parameter-tuning)\n",
    "- [Test Model](#test-model)\n",
    "- [Train Model](#train-model)\n",
    "- [Save Model](#save-model)\n",
    "- [Conclusions](#conclusions)"
   ]
  },
  {
   "cell_type": "markdown",
   "metadata": {},
   "source": [
    "### Config\n",
    "\n",
    "Set up directory variables."
   ]
  },
  {
   "cell_type": "code",
   "execution_count": 1,
   "metadata": {},
   "outputs": [],
   "source": [
    "transformed_dataset_directory = \"../transformed-data\"\n",
    "transformed_training_X_dataset_directory = f\"{transformed_dataset_directory}/train_X.csv\"\n",
    "transformed_training_y_dataset_directory = f\"{transformed_dataset_directory}/train_y.csv\"\n",
    "\n",
    "models_directory = \"../models\"\n",
    "model_save_path = f\"{models_directory}/xgb_classifier.json\""
   ]
  },
  {
   "cell_type": "markdown",
   "metadata": {},
   "source": [
    "Control hyper parameter tuning.\n",
    "\n",
    ">NOTE: If `do_hyper_parameter_tuning` == `False` include best hyper parameters in `hyper_parameters`."
   ]
  },
  {
   "cell_type": "code",
   "execution_count": 2,
   "metadata": {},
   "outputs": [],
   "source": [
    "do_hyper_parameter_tuning = False\n",
    "hyper_parameters = {'colsample_bytree': 0.8, 'eval_metric': 'error', 'learning_rate': 0.2, 'max_depth': 6, 'n_estimators': 14, 'use_label_encoder': False}\n",
    "# {'colsample_bytree': 0.7, 'eval_metric': 'error', 'learning_rate': 0.1, 'max_depth': 5, 'n_estimators': 100, 'use_label_encoder': False}"
   ]
  },
  {
   "cell_type": "markdown",
   "metadata": {},
   "source": [
    "### Dependencies"
   ]
  },
  {
   "cell_type": "code",
   "execution_count": 3,
   "metadata": {},
   "outputs": [
    {
     "name": "stdout",
     "output_type": "stream",
     "text": [
      "Collecting package metadata (current_repodata.json): ...working... done\n",
      "Solving environment: ...working... done\n",
      "\n",
      "# All requested packages already installed.\n",
      "\n",
      "\n",
      "Note: you may need to restart the kernel to use updated packages.\n"
     ]
    }
   ],
   "source": [
    "%conda install pandas numpy matplotlib seaborn xgboost scikit-learn"
   ]
  },
  {
   "cell_type": "code",
   "execution_count": 4,
   "metadata": {},
   "outputs": [],
   "source": [
    "import sys\n",
    "import pandas as pd\n",
    "import numpy as np\n",
    "import matplotlib.pyplot as plt\n",
    "import seaborn as sns\n",
    "\n",
    "from xgboost import XGBClassifier\n",
    "\n",
    "from sklearn.model_selection import train_test_split\n",
    "from sklearn.model_selection import GridSearchCV\n",
    "from sklearn.metrics import mean_squared_error"
   ]
  },
  {
   "cell_type": "markdown",
   "metadata": {},
   "source": [
    "### Data Extraction"
   ]
  },
  {
   "cell_type": "code",
   "execution_count": 5,
   "metadata": {},
   "outputs": [
    {
     "data": {
      "text/html": [
       "<div>\n",
       "<style scoped>\n",
       "    .dataframe tbody tr th:only-of-type {\n",
       "        vertical-align: middle;\n",
       "    }\n",
       "\n",
       "    .dataframe tbody tr th {\n",
       "        vertical-align: top;\n",
       "    }\n",
       "\n",
       "    .dataframe thead th {\n",
       "        text-align: right;\n",
       "    }\n",
       "</style>\n",
       "<table border=\"1\" class=\"dataframe\">\n",
       "  <thead>\n",
       "    <tr style=\"text-align: right;\">\n",
       "      <th></th>\n",
       "      <th>Cabin_2</th>\n",
       "      <th>HomePlanet_Earth</th>\n",
       "      <th>HomePlanet_Europa</th>\n",
       "      <th>CryoSleep_False</th>\n",
       "      <th>CryoSleep_True</th>\n",
       "      <th>Cabin_1_A</th>\n",
       "      <th>Cabin_1_B</th>\n",
       "      <th>Cabin_1_C</th>\n",
       "      <th>Cabin_1_D</th>\n",
       "      <th>Cabin_1_E</th>\n",
       "      <th>...</th>\n",
       "      <th>Spa_is_zero</th>\n",
       "      <th>Spa_std_1</th>\n",
       "      <th>Spa_std_-1</th>\n",
       "      <th>Spa_std_2</th>\n",
       "      <th>Spa_std_3</th>\n",
       "      <th>VRDeck_is_zero</th>\n",
       "      <th>VRDeck_std_1</th>\n",
       "      <th>VRDeck_std_-1</th>\n",
       "      <th>VRDeck_std_2</th>\n",
       "      <th>VRDeck_std_3</th>\n",
       "    </tr>\n",
       "  </thead>\n",
       "  <tbody>\n",
       "    <tr>\n",
       "      <th>0</th>\n",
       "      <td>0</td>\n",
       "      <td>0</td>\n",
       "      <td>1</td>\n",
       "      <td>1</td>\n",
       "      <td>0</td>\n",
       "      <td>0</td>\n",
       "      <td>1</td>\n",
       "      <td>0</td>\n",
       "      <td>0</td>\n",
       "      <td>0</td>\n",
       "      <td>...</td>\n",
       "      <td>1</td>\n",
       "      <td>0</td>\n",
       "      <td>0</td>\n",
       "      <td>0</td>\n",
       "      <td>0</td>\n",
       "      <td>1</td>\n",
       "      <td>0</td>\n",
       "      <td>0</td>\n",
       "      <td>0</td>\n",
       "      <td>0</td>\n",
       "    </tr>\n",
       "    <tr>\n",
       "      <th>1</th>\n",
       "      <td>0</td>\n",
       "      <td>1</td>\n",
       "      <td>0</td>\n",
       "      <td>1</td>\n",
       "      <td>0</td>\n",
       "      <td>0</td>\n",
       "      <td>0</td>\n",
       "      <td>0</td>\n",
       "      <td>0</td>\n",
       "      <td>0</td>\n",
       "      <td>...</td>\n",
       "      <td>0</td>\n",
       "      <td>1</td>\n",
       "      <td>0</td>\n",
       "      <td>0</td>\n",
       "      <td>0</td>\n",
       "      <td>0</td>\n",
       "      <td>0</td>\n",
       "      <td>1</td>\n",
       "      <td>0</td>\n",
       "      <td>0</td>\n",
       "    </tr>\n",
       "    <tr>\n",
       "      <th>2</th>\n",
       "      <td>0</td>\n",
       "      <td>0</td>\n",
       "      <td>1</td>\n",
       "      <td>1</td>\n",
       "      <td>0</td>\n",
       "      <td>1</td>\n",
       "      <td>0</td>\n",
       "      <td>0</td>\n",
       "      <td>0</td>\n",
       "      <td>0</td>\n",
       "      <td>...</td>\n",
       "      <td>0</td>\n",
       "      <td>0</td>\n",
       "      <td>0</td>\n",
       "      <td>0</td>\n",
       "      <td>1</td>\n",
       "      <td>0</td>\n",
       "      <td>0</td>\n",
       "      <td>1</td>\n",
       "      <td>0</td>\n",
       "      <td>0</td>\n",
       "    </tr>\n",
       "    <tr>\n",
       "      <th>3</th>\n",
       "      <td>0</td>\n",
       "      <td>0</td>\n",
       "      <td>1</td>\n",
       "      <td>1</td>\n",
       "      <td>0</td>\n",
       "      <td>1</td>\n",
       "      <td>0</td>\n",
       "      <td>0</td>\n",
       "      <td>0</td>\n",
       "      <td>0</td>\n",
       "      <td>...</td>\n",
       "      <td>0</td>\n",
       "      <td>0</td>\n",
       "      <td>0</td>\n",
       "      <td>0</td>\n",
       "      <td>1</td>\n",
       "      <td>0</td>\n",
       "      <td>0</td>\n",
       "      <td>1</td>\n",
       "      <td>0</td>\n",
       "      <td>0</td>\n",
       "    </tr>\n",
       "    <tr>\n",
       "      <th>4</th>\n",
       "      <td>1</td>\n",
       "      <td>1</td>\n",
       "      <td>0</td>\n",
       "      <td>1</td>\n",
       "      <td>0</td>\n",
       "      <td>0</td>\n",
       "      <td>0</td>\n",
       "      <td>0</td>\n",
       "      <td>0</td>\n",
       "      <td>0</td>\n",
       "      <td>...</td>\n",
       "      <td>0</td>\n",
       "      <td>1</td>\n",
       "      <td>0</td>\n",
       "      <td>0</td>\n",
       "      <td>0</td>\n",
       "      <td>0</td>\n",
       "      <td>0</td>\n",
       "      <td>1</td>\n",
       "      <td>0</td>\n",
       "      <td>0</td>\n",
       "    </tr>\n",
       "  </tbody>\n",
       "</table>\n",
       "<p>5 rows × 40 columns</p>\n",
       "</div>"
      ],
      "text/plain": [
       "   Cabin_2  HomePlanet_Earth  HomePlanet_Europa  CryoSleep_False  \\\n",
       "0        0                 0                  1                1   \n",
       "1        0                 1                  0                1   \n",
       "2        0                 0                  1                1   \n",
       "3        0                 0                  1                1   \n",
       "4        1                 1                  0                1   \n",
       "\n",
       "   CryoSleep_True  Cabin_1_A  Cabin_1_B  Cabin_1_C  Cabin_1_D  Cabin_1_E  ...  \\\n",
       "0               0          0          1          0          0          0  ...   \n",
       "1               0          0          0          0          0          0  ...   \n",
       "2               0          1          0          0          0          0  ...   \n",
       "3               0          1          0          0          0          0  ...   \n",
       "4               0          0          0          0          0          0  ...   \n",
       "\n",
       "   Spa_is_zero  Spa_std_1  Spa_std_-1  Spa_std_2  Spa_std_3  VRDeck_is_zero  \\\n",
       "0            1          0           0          0          0               1   \n",
       "1            0          1           0          0          0               0   \n",
       "2            0          0           0          0          1               0   \n",
       "3            0          0           0          0          1               0   \n",
       "4            0          1           0          0          0               0   \n",
       "\n",
       "   VRDeck_std_1  VRDeck_std_-1  VRDeck_std_2  VRDeck_std_3  \n",
       "0             0              0             0             0  \n",
       "1             0              1             0             0  \n",
       "2             0              1             0             0  \n",
       "3             0              1             0             0  \n",
       "4             0              1             0             0  \n",
       "\n",
       "[5 rows x 40 columns]"
      ]
     },
     "execution_count": 5,
     "metadata": {},
     "output_type": "execute_result"
    }
   ],
   "source": [
    "X = pd.read_csv(transformed_training_X_dataset_directory)\n",
    "X.head()"
   ]
  },
  {
   "cell_type": "code",
   "execution_count": 6,
   "metadata": {},
   "outputs": [
    {
     "data": {
      "text/html": [
       "<div>\n",
       "<style scoped>\n",
       "    .dataframe tbody tr th:only-of-type {\n",
       "        vertical-align: middle;\n",
       "    }\n",
       "\n",
       "    .dataframe tbody tr th {\n",
       "        vertical-align: top;\n",
       "    }\n",
       "\n",
       "    .dataframe thead th {\n",
       "        text-align: right;\n",
       "    }\n",
       "</style>\n",
       "<table border=\"1\" class=\"dataframe\">\n",
       "  <thead>\n",
       "    <tr style=\"text-align: right;\">\n",
       "      <th></th>\n",
       "      <th>Transported</th>\n",
       "    </tr>\n",
       "  </thead>\n",
       "  <tbody>\n",
       "    <tr>\n",
       "      <th>0</th>\n",
       "      <td>False</td>\n",
       "    </tr>\n",
       "    <tr>\n",
       "      <th>1</th>\n",
       "      <td>True</td>\n",
       "    </tr>\n",
       "    <tr>\n",
       "      <th>2</th>\n",
       "      <td>False</td>\n",
       "    </tr>\n",
       "    <tr>\n",
       "      <th>3</th>\n",
       "      <td>False</td>\n",
       "    </tr>\n",
       "    <tr>\n",
       "      <th>4</th>\n",
       "      <td>True</td>\n",
       "    </tr>\n",
       "  </tbody>\n",
       "</table>\n",
       "</div>"
      ],
      "text/plain": [
       "   Transported\n",
       "0        False\n",
       "1         True\n",
       "2        False\n",
       "3        False\n",
       "4         True"
      ]
     },
     "execution_count": 6,
     "metadata": {},
     "output_type": "execute_result"
    }
   ],
   "source": [
    "y = pd.read_csv(transformed_training_y_dataset_directory)\n",
    "y.head()"
   ]
  },
  {
   "cell_type": "markdown",
   "metadata": {},
   "source": [
    "#### Train/Test Split"
   ]
  },
  {
   "cell_type": "code",
   "execution_count": 7,
   "metadata": {},
   "outputs": [],
   "source": [
    "X_train, X_test, y_train, y_test = train_test_split(\n",
    "    X, y, test_size=0.1, random_state=13\n",
    ")"
   ]
  },
  {
   "cell_type": "code",
   "execution_count": 8,
   "metadata": {},
   "outputs": [
    {
     "name": "stdout",
     "output_type": "stream",
     "text": [
      "<class 'pandas.core.frame.DataFrame'>\n",
      "Int64Index: 7823 entries, 2897 to 338\n",
      "Data columns (total 40 columns):\n",
      " #   Column                Non-Null Count  Dtype\n",
      "---  ------                --------------  -----\n",
      " 0   Cabin_2               7823 non-null   int64\n",
      " 1   HomePlanet_Earth      7823 non-null   int64\n",
      " 2   HomePlanet_Europa     7823 non-null   int64\n",
      " 3   CryoSleep_False       7823 non-null   int64\n",
      " 4   CryoSleep_True        7823 non-null   int64\n",
      " 5   Cabin_1_A             7823 non-null   int64\n",
      " 6   Cabin_1_B             7823 non-null   int64\n",
      " 7   Cabin_1_C             7823 non-null   int64\n",
      " 8   Cabin_1_D             7823 non-null   int64\n",
      " 9   Cabin_1_E             7823 non-null   int64\n",
      " 10  Cabin_1_F             7823 non-null   int64\n",
      " 11  Cabin_1_G             7823 non-null   int64\n",
      " 12  Cabin_1_T             7823 non-null   int64\n",
      " 13  Cabin_3_P             7823 non-null   int64\n",
      " 14  Cabin_3_S             7823 non-null   int64\n",
      " 15  RoomService_is_zero   7823 non-null   int64\n",
      " 16  RoomService_std_1     7823 non-null   int64\n",
      " 17  RoomService_std_-1    7823 non-null   int64\n",
      " 18  RoomService_std_2     7823 non-null   int64\n",
      " 19  RoomService_std_3     7823 non-null   int64\n",
      " 20  FoodCourt_is_zero     7823 non-null   int64\n",
      " 21  FoodCourt_std_1       7823 non-null   int64\n",
      " 22  FoodCourt_std_-1      7823 non-null   int64\n",
      " 23  FoodCourt_std_2       7823 non-null   int64\n",
      " 24  FoodCourt_std_3       7823 non-null   int64\n",
      " 25  ShoppingMall_is_zero  7823 non-null   int64\n",
      " 26  ShoppingMall_std_1    7823 non-null   int64\n",
      " 27  ShoppingMall_std_-1   7823 non-null   int64\n",
      " 28  ShoppingMall_std_2    7823 non-null   int64\n",
      " 29  ShoppingMall_std_3    7823 non-null   int64\n",
      " 30  Spa_is_zero           7823 non-null   int64\n",
      " 31  Spa_std_1             7823 non-null   int64\n",
      " 32  Spa_std_-1            7823 non-null   int64\n",
      " 33  Spa_std_2             7823 non-null   int64\n",
      " 34  Spa_std_3             7823 non-null   int64\n",
      " 35  VRDeck_is_zero        7823 non-null   int64\n",
      " 36  VRDeck_std_1          7823 non-null   int64\n",
      " 37  VRDeck_std_-1         7823 non-null   int64\n",
      " 38  VRDeck_std_2          7823 non-null   int64\n",
      " 39  VRDeck_std_3          7823 non-null   int64\n",
      "dtypes: int64(40)\n",
      "memory usage: 2.4 MB\n",
      "None\n"
     ]
    }
   ],
   "source": [
    "print(X_train.info()) "
   ]
  },
  {
   "cell_type": "code",
   "execution_count": 9,
   "metadata": {},
   "outputs": [
    {
     "data": {
      "text/html": [
       "<div>\n",
       "<style scoped>\n",
       "    .dataframe tbody tr th:only-of-type {\n",
       "        vertical-align: middle;\n",
       "    }\n",
       "\n",
       "    .dataframe tbody tr th {\n",
       "        vertical-align: top;\n",
       "    }\n",
       "\n",
       "    .dataframe thead th {\n",
       "        text-align: right;\n",
       "    }\n",
       "</style>\n",
       "<table border=\"1\" class=\"dataframe\">\n",
       "  <thead>\n",
       "    <tr style=\"text-align: right;\">\n",
       "      <th></th>\n",
       "      <th>Cabin_2</th>\n",
       "      <th>HomePlanet_Earth</th>\n",
       "      <th>HomePlanet_Europa</th>\n",
       "      <th>CryoSleep_False</th>\n",
       "      <th>CryoSleep_True</th>\n",
       "      <th>Cabin_1_A</th>\n",
       "      <th>Cabin_1_B</th>\n",
       "      <th>Cabin_1_C</th>\n",
       "      <th>Cabin_1_D</th>\n",
       "      <th>Cabin_1_E</th>\n",
       "      <th>...</th>\n",
       "      <th>Spa_is_zero</th>\n",
       "      <th>Spa_std_1</th>\n",
       "      <th>Spa_std_-1</th>\n",
       "      <th>Spa_std_2</th>\n",
       "      <th>Spa_std_3</th>\n",
       "      <th>VRDeck_is_zero</th>\n",
       "      <th>VRDeck_std_1</th>\n",
       "      <th>VRDeck_std_-1</th>\n",
       "      <th>VRDeck_std_2</th>\n",
       "      <th>VRDeck_std_3</th>\n",
       "    </tr>\n",
       "  </thead>\n",
       "  <tbody>\n",
       "    <tr>\n",
       "      <th>2897</th>\n",
       "      <td>492</td>\n",
       "      <td>1</td>\n",
       "      <td>0</td>\n",
       "      <td>0</td>\n",
       "      <td>1</td>\n",
       "      <td>0</td>\n",
       "      <td>0</td>\n",
       "      <td>0</td>\n",
       "      <td>0</td>\n",
       "      <td>0</td>\n",
       "      <td>...</td>\n",
       "      <td>1</td>\n",
       "      <td>0</td>\n",
       "      <td>0</td>\n",
       "      <td>0</td>\n",
       "      <td>0</td>\n",
       "      <td>1</td>\n",
       "      <td>0</td>\n",
       "      <td>0</td>\n",
       "      <td>0</td>\n",
       "      <td>0</td>\n",
       "    </tr>\n",
       "    <tr>\n",
       "      <th>1783</th>\n",
       "      <td>72</td>\n",
       "      <td>0</td>\n",
       "      <td>1</td>\n",
       "      <td>1</td>\n",
       "      <td>0</td>\n",
       "      <td>0</td>\n",
       "      <td>0</td>\n",
       "      <td>1</td>\n",
       "      <td>0</td>\n",
       "      <td>0</td>\n",
       "      <td>...</td>\n",
       "      <td>0</td>\n",
       "      <td>0</td>\n",
       "      <td>1</td>\n",
       "      <td>0</td>\n",
       "      <td>0</td>\n",
       "      <td>0</td>\n",
       "      <td>0</td>\n",
       "      <td>0</td>\n",
       "      <td>0</td>\n",
       "      <td>1</td>\n",
       "    </tr>\n",
       "    <tr>\n",
       "      <th>2467</th>\n",
       "      <td>95</td>\n",
       "      <td>0</td>\n",
       "      <td>1</td>\n",
       "      <td>0</td>\n",
       "      <td>1</td>\n",
       "      <td>0</td>\n",
       "      <td>0</td>\n",
       "      <td>1</td>\n",
       "      <td>0</td>\n",
       "      <td>0</td>\n",
       "      <td>...</td>\n",
       "      <td>1</td>\n",
       "      <td>0</td>\n",
       "      <td>0</td>\n",
       "      <td>0</td>\n",
       "      <td>0</td>\n",
       "      <td>1</td>\n",
       "      <td>0</td>\n",
       "      <td>0</td>\n",
       "      <td>0</td>\n",
       "      <td>0</td>\n",
       "    </tr>\n",
       "    <tr>\n",
       "      <th>6545</th>\n",
       "      <td>1432</td>\n",
       "      <td>0</td>\n",
       "      <td>0</td>\n",
       "      <td>0</td>\n",
       "      <td>1</td>\n",
       "      <td>0</td>\n",
       "      <td>0</td>\n",
       "      <td>0</td>\n",
       "      <td>0</td>\n",
       "      <td>0</td>\n",
       "      <td>...</td>\n",
       "      <td>1</td>\n",
       "      <td>0</td>\n",
       "      <td>0</td>\n",
       "      <td>0</td>\n",
       "      <td>0</td>\n",
       "      <td>1</td>\n",
       "      <td>0</td>\n",
       "      <td>0</td>\n",
       "      <td>0</td>\n",
       "      <td>0</td>\n",
       "    </tr>\n",
       "    <tr>\n",
       "      <th>5623</th>\n",
       "      <td>1140</td>\n",
       "      <td>0</td>\n",
       "      <td>0</td>\n",
       "      <td>1</td>\n",
       "      <td>0</td>\n",
       "      <td>0</td>\n",
       "      <td>0</td>\n",
       "      <td>0</td>\n",
       "      <td>0</td>\n",
       "      <td>0</td>\n",
       "      <td>...</td>\n",
       "      <td>0</td>\n",
       "      <td>1</td>\n",
       "      <td>0</td>\n",
       "      <td>0</td>\n",
       "      <td>0</td>\n",
       "      <td>1</td>\n",
       "      <td>0</td>\n",
       "      <td>0</td>\n",
       "      <td>0</td>\n",
       "      <td>0</td>\n",
       "    </tr>\n",
       "  </tbody>\n",
       "</table>\n",
       "<p>5 rows × 40 columns</p>\n",
       "</div>"
      ],
      "text/plain": [
       "      Cabin_2  HomePlanet_Earth  HomePlanet_Europa  CryoSleep_False  \\\n",
       "2897      492                 1                  0                0   \n",
       "1783       72                 0                  1                1   \n",
       "2467       95                 0                  1                0   \n",
       "6545     1432                 0                  0                0   \n",
       "5623     1140                 0                  0                1   \n",
       "\n",
       "      CryoSleep_True  Cabin_1_A  Cabin_1_B  Cabin_1_C  Cabin_1_D  Cabin_1_E  \\\n",
       "2897               1          0          0          0          0          0   \n",
       "1783               0          0          0          1          0          0   \n",
       "2467               1          0          0          1          0          0   \n",
       "6545               1          0          0          0          0          0   \n",
       "5623               0          0          0          0          0          0   \n",
       "\n",
       "      ...  Spa_is_zero  Spa_std_1  Spa_std_-1  Spa_std_2  Spa_std_3  \\\n",
       "2897  ...            1          0           0          0          0   \n",
       "1783  ...            0          0           1          0          0   \n",
       "2467  ...            1          0           0          0          0   \n",
       "6545  ...            1          0           0          0          0   \n",
       "5623  ...            0          1           0          0          0   \n",
       "\n",
       "      VRDeck_is_zero  VRDeck_std_1  VRDeck_std_-1  VRDeck_std_2  VRDeck_std_3  \n",
       "2897               1             0              0             0             0  \n",
       "1783               0             0              0             0             1  \n",
       "2467               1             0              0             0             0  \n",
       "6545               1             0              0             0             0  \n",
       "5623               1             0              0             0             0  \n",
       "\n",
       "[5 rows x 40 columns]"
      ]
     },
     "execution_count": 9,
     "metadata": {},
     "output_type": "execute_result"
    }
   ],
   "source": [
    "X_train.head()"
   ]
  },
  {
   "cell_type": "code",
   "execution_count": 10,
   "metadata": {},
   "outputs": [
    {
     "data": {
      "text/html": [
       "<div>\n",
       "<style scoped>\n",
       "    .dataframe tbody tr th:only-of-type {\n",
       "        vertical-align: middle;\n",
       "    }\n",
       "\n",
       "    .dataframe tbody tr th {\n",
       "        vertical-align: top;\n",
       "    }\n",
       "\n",
       "    .dataframe thead th {\n",
       "        text-align: right;\n",
       "    }\n",
       "</style>\n",
       "<table border=\"1\" class=\"dataframe\">\n",
       "  <thead>\n",
       "    <tr style=\"text-align: right;\">\n",
       "      <th></th>\n",
       "      <th>Transported</th>\n",
       "    </tr>\n",
       "  </thead>\n",
       "  <tbody>\n",
       "    <tr>\n",
       "      <th>2897</th>\n",
       "      <td>True</td>\n",
       "    </tr>\n",
       "    <tr>\n",
       "      <th>1783</th>\n",
       "      <td>True</td>\n",
       "    </tr>\n",
       "    <tr>\n",
       "      <th>2467</th>\n",
       "      <td>True</td>\n",
       "    </tr>\n",
       "    <tr>\n",
       "      <th>6545</th>\n",
       "      <td>True</td>\n",
       "    </tr>\n",
       "    <tr>\n",
       "      <th>5623</th>\n",
       "      <td>False</td>\n",
       "    </tr>\n",
       "  </tbody>\n",
       "</table>\n",
       "</div>"
      ],
      "text/plain": [
       "      Transported\n",
       "2897         True\n",
       "1783         True\n",
       "2467         True\n",
       "6545         True\n",
       "5623        False"
      ]
     },
     "execution_count": 10,
     "metadata": {},
     "output_type": "execute_result"
    }
   ],
   "source": [
    "y_train.head()"
   ]
  },
  {
   "cell_type": "markdown",
   "metadata": {},
   "source": [
    "#### Hyper Parameter Tuning"
   ]
  },
  {
   "cell_type": "markdown",
   "metadata": {},
   "source": [
    "Provide `hyper_parameters_to_search` to find best possible combination of hyper parameters.\n",
    "\n",
    ">NOTE: Longer ranges will require longer processing times. Once an optimal set of hyper parameters is found, set `do_hyper_parameter_tuning` to `False` and `hyper_parameters` to `hyper_parameter_grid_search.best_params_` in the [Config](#config) section."
   ]
  },
  {
   "cell_type": "code",
   "execution_count": 11,
   "metadata": {},
   "outputs": [
    {
     "name": "stdout",
     "output_type": "stream",
     "text": [
      "Hyper parameter tuning skipped...\n"
     ]
    }
   ],
   "source": [
    "if do_hyper_parameter_tuning == True:\n",
    "    \n",
    "    xgb_classifier = XGBClassifier()\n",
    "\n",
    "    # 'n_estimators': range(10,20),\n",
    "    # 'max_depth': range(1, 20),\n",
    "\n",
    "    hyper_parameters_to_search = {\n",
    "    'n_estimators': [1, 5, 10, 50, 100, 500, 1000],\n",
    "    'max_depth': [1, 5, 10, 50, 100, 500, 1000],\n",
    "    'learning_rate': [.1, .2, .3, .4, .5, .6, .7, .8, .9],\n",
    "    'colsample_bytree': [.7, .8, .9, 1],\n",
    "    'eval_metric': ['error'],\n",
    "    'use_label_encoder': [False]\n",
    "    }\n",
    "\n",
    "    hyper_parameter_grid_search = GridSearchCV(estimator = xgb_classifier, param_grid = hyper_parameters_to_search,\n",
    "    cv = 3, n_jobs = 1, verbose = 4, return_train_score=True)\n",
    "\n",
    "    hyper_parameter_grid_search.fit(X_train, y_train)\n",
    "\n",
    "    hyper_parameters = hyper_parameter_grid_search.best_params_\n",
    "    print(\"Best hyper parameters found were: \")\n",
    "    print(hyper_parameters)\n",
    "    hyper_parameter_grid_search.score(X_test,y_test)\n",
    "else:\n",
    "    print(\"Hyper parameter tuning skipped...\")"
   ]
  },
  {
   "cell_type": "markdown",
   "metadata": {},
   "source": [
    "#### Test Model\n",
    "Train the model using the `X_train` and `y_train` split and test it against the test split. Find the mean square error (MSE) to evaluate the dataset."
   ]
  },
  {
   "cell_type": "code",
   "execution_count": 12,
   "metadata": {},
   "outputs": [
    {
     "data": {
      "text/plain": [
       "XGBClassifier(base_score=0.5, booster='gbtree', colsample_bylevel=1,\n",
       "              colsample_bynode=1, colsample_bytree=0.8,\n",
       "              enable_categorical=False, eval_metric='error', gamma=0, gpu_id=-1,\n",
       "              importance_type=None, interaction_constraints='',\n",
       "              learning_rate=0.2, max_delta_step=0, max_depth=6,\n",
       "              min_child_weight=1, missing=nan, monotone_constraints='()',\n",
       "              n_estimators=14, n_jobs=8, num_parallel_tree=1, predictor='auto',\n",
       "              random_state=0, reg_alpha=0, reg_lambda=1, scale_pos_weight=1,\n",
       "              subsample=1, tree_method='exact', use_label_encoder=False,\n",
       "              validate_parameters=1, verbosity=None)"
      ]
     },
     "execution_count": 12,
     "metadata": {},
     "output_type": "execute_result"
    }
   ],
   "source": [
    "xgb_train_test_classifier = XGBClassifier(**hyper_parameters)\n",
    "xgb_train_test_classifier.fit(X_train, y_train)"
   ]
  },
  {
   "cell_type": "code",
   "execution_count": 13,
   "metadata": {},
   "outputs": [
    {
     "name": "stdout",
     "output_type": "stream",
     "text": [
      "The mean squared error (MSE) on test set: 0.2023\n"
     ]
    }
   ],
   "source": [
    "\n",
    "mse = mean_squared_error(y_test, xgb_train_test_classifier.predict(X_test))\n",
    "print(\"The mean squared error (MSE) on test set: {:.4f}\".format(mse))"
   ]
  },
  {
   "cell_type": "markdown",
   "metadata": {},
   "source": [
    "#### Train Model\n",
    "We train the model on the entirety of the training set."
   ]
  },
  {
   "cell_type": "code",
   "execution_count": 14,
   "metadata": {},
   "outputs": [
    {
     "name": "stdout",
     "output_type": "stream",
     "text": [
      "The mean squared error (MSE) on training set: 0.1891\n"
     ]
    }
   ],
   "source": [
    "xgb_classifier = XGBClassifier(**hyper_parameters)\n",
    "xgb_classifier.fit(X, y)\n",
    "\n",
    "mse = mean_squared_error(y, xgb_classifier.predict(X))\n",
    "print(\"The mean squared error (MSE) on training set: {:.4f}\".format(mse))"
   ]
  },
  {
   "cell_type": "markdown",
   "metadata": {},
   "source": [
    "#### Save Model"
   ]
  },
  {
   "cell_type": "code",
   "execution_count": 15,
   "metadata": {},
   "outputs": [],
   "source": [
    "xgb_classifier.save_model(fname=model_save_path)"
   ]
  },
  {
   "cell_type": "markdown",
   "metadata": {},
   "source": [
    "#### Conclusions"
   ]
  },
  {
   "cell_type": "markdown",
   "metadata": {},
   "source": [
    "From best result:\n",
    "The mean squared error (MSE) on test set: 0.2000\n",
    "The mean squared error (MSE) on training set: 0.1830"
   ]
  }
 ],
 "metadata": {
  "interpreter": {
   "hash": "c053d63b215a93560198aa706881bc0b72ed9932d9c274524c0b97eef360f218"
  },
  "kernelspec": {
   "display_name": "Python 3.9.7 ('base')",
   "language": "python",
   "name": "python3"
  },
  "language_info": {
   "codemirror_mode": {
    "name": "ipython",
    "version": 3
   },
   "file_extension": ".py",
   "mimetype": "text/x-python",
   "name": "python",
   "nbconvert_exporter": "python",
   "pygments_lexer": "ipython3",
   "version": "3.9.7"
  },
  "orig_nbformat": 4
 },
 "nbformat": 4,
 "nbformat_minor": 2
}
